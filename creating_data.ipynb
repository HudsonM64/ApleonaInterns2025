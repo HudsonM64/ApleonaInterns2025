{
 "cells": [
  {
   "cell_type": "markdown",
   "id": "b90c83a4",
   "metadata": {},
   "source": [
    "## Creating Fake Data:\n",
    "Data will consist of several csv files. Each file will represent one weeks worth of data per application.\n",
    "- DDMMYYY_application.csv"
   ]
  },
  {
   "cell_type": "code",
   "execution_count": null,
   "id": "c192276e",
   "metadata": {},
   "outputs": [],
   "source": []
  }
 ],
 "metadata": {
  "language_info": {
   "name": "python"
  }
 },
 "nbformat": 4,
 "nbformat_minor": 5
}
